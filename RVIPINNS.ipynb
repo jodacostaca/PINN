{
 "cells": [
  {
   "cell_type": "code",
   "execution_count": 1,
   "metadata": {},
   "outputs": [
    {
     "name": "stderr",
     "output_type": "stream",
     "text": [
      "2024-09-19 20:07:17.576923: I external/local_xla/xla/tsl/cuda/cudart_stub.cc:32] Could not find cuda drivers on your machine, GPU will not be used.\n",
      "2024-09-19 20:07:17.699817: I external/local_xla/xla/tsl/cuda/cudart_stub.cc:32] Could not find cuda drivers on your machine, GPU will not be used.\n",
      "2024-09-19 20:07:17.774266: E external/local_xla/xla/stream_executor/cuda/cuda_fft.cc:485] Unable to register cuFFT factory: Attempting to register factory for plugin cuFFT when one has already been registered\n",
      "2024-09-19 20:07:17.872808: E external/local_xla/xla/stream_executor/cuda/cuda_dnn.cc:8454] Unable to register cuDNN factory: Attempting to register factory for plugin cuDNN when one has already been registered\n",
      "2024-09-19 20:07:17.898294: E external/local_xla/xla/stream_executor/cuda/cuda_blas.cc:1452] Unable to register cuBLAS factory: Attempting to register factory for plugin cuBLAS when one has already been registered\n",
      "2024-09-19 20:07:18.119004: I tensorflow/core/platform/cpu_feature_guard.cc:210] This TensorFlow binary is optimized to use available CPU instructions in performance-critical operations.\n",
      "To enable the following instructions: AVX2 FMA, in other operations, rebuild TensorFlow with the appropriate compiler flags.\n",
      "2024-09-19 20:07:19.538949: W tensorflow/compiler/tf2tensorrt/utils/py_utils.cc:38] TF-TRT Warning: Could not find TensorRT\n"
     ]
    }
   ],
   "source": [
    "\n",
    "import tensorflow as tf\n",
    "import numpy as np\n",
    "\n",
    "\n",
    "\n",
    "\n",
    "# To make VPINS we need to:  \n",
    "#                                                          \n",
    "#   1) Define a basis for V_n                                   \n",
    "                                                                                                                                                   \n",
    "class param_basis:\n",
    "    def __init__(self, max_n):\n",
    "        self.max_n =int(max_n)\n",
    "        self.pi = np.pi\n",
    "    def get_basis_functions(self):\n",
    "        basis_functions = []\n",
    "        for n in range(1,self.max_n + 1):\n",
    "            basis_fn = lambda x, n=n: tf.sin(n*tf.constant(self.pi, dtype=tf.float32) * x) \n",
    "            basis_functions.append(basis_fn)\n",
    "        return basis_functions   \n",
    "    \n",
    "                                                                                          \n",
    "# 2) Define a class for gaussian integration\n",
    "\n",
    "class Gaussint:\n",
    "    def __init__(self, function, n_points = 2):\n",
    "        self.function = function\n",
    "        self.n_points = n_points\n",
    "        self.nodes, self.weights = np.polynomial.legendre.leggauss(n_points)\n",
    "        self.nodes_tf = tf.constant(self.nodes, dtype = tf.float32)\n",
    "        self.weights_tf = tf.constant(self.weights, dtype = tf.float32)\n",
    "\n",
    "    def integrate(self, a, b):\n",
    "        x_mapped = ((b-a)/2.0)*self.nodes_tf + (b+a)/2.0\n",
    "        function_values = self.function(x_mapped)\n",
    "        integral = (b-a)/2.0 * tf.reduce_sum(self.weights_tf * function_values)\n",
    "        return integral\n",
    "\n",
    "\n",
    "#Assemble the loss\n",
    "\n",
    "class loss(tf.keras.layers.Layer):\n",
    "\n",
    "    def __init__(self, U_model, N_points,f_source, **kwargs):\n",
    "        super(loss,self).__init__()\n",
    "        self.U_model = U_model\n",
    "        self.N_points = N_points\n",
    "        self.f_source = f_source\n",
    "#Compute the second derivative of the test function (I dont know how to create a loop inside)\n",
    "   \n",
    "                \n",
    "        \n",
    "    \n",
    "#Compute the second derivative of the neural network U_nn\n",
    "    def  call(self,inputs):\n",
    "        S = tf.experimental.numpy.linspace(0.,np.pi,num=self.N_points, dtype='float32')\n",
    "        with tf.GradientTape(persistent=True) as t1:\n",
    "            t1.watch(S)\n",
    "            with tf.GradientTape(persistent=True) as t2:\n",
    "                t2.watch(S)\n",
    "                ueval = U_model(S)\n",
    "                u_x = t2.gradient(ueval,S)\n",
    "            u_xx = t1.gradient(u_x,S)   \n",
    "    \n",
    "\n",
    "#Calculate the integrals for l(basis_n) and Δu_nn and Δbasis_n\n",
    "\n",
    "\n",
    "#Subtract and take the square for r(u_nn,basis_n)\n",
    "\n",
    "\n",
    "#Add r(u_nn,basis_n) from 1 to max_n\n",
    "\n",
    "\n",
    "\n",
    "        #Assemble the residual loss & the loss for the collocation points\n",
    "        f_source = self.f_source(S)\n",
    "        loss_out = tf.math.reduce_mean((u_xx - f_source)**2) + self.U_model(np.array([0.]))**2 + self.U_model(np.array([np.pi]))**2 \n",
    "        tf.print(loss_out)\n",
    "        return loss_out\n",
    "\n",
    "\n"
   ]
  },
  {
   "cell_type": "code",
   "execution_count": 16,
   "metadata": {},
   "outputs": [
    {
     "name": "stdout",
     "output_type": "stream",
     "text": [
      "[<function param_basis.get_basis_functions.<locals>.<lambda> at 0x71e1f3ae5c60>, <function param_basis.get_basis_functions.<locals>.<lambda> at 0x71e1f3ae5a80>, <function param_basis.get_basis_functions.<locals>.<lambda> at 0x71e1f3ae5d00>, <function param_basis.get_basis_functions.<locals>.<lambda> at 0x71e1f3ae5da0>, <function param_basis.get_basis_functions.<locals>.<lambda> at 0x71e1f3ae5e40>, <function param_basis.get_basis_functions.<locals>.<lambda> at 0x71e1f3ae5ee0>, <function param_basis.get_basis_functions.<locals>.<lambda> at 0x71e1f3ae5f80>, <function param_basis.get_basis_functions.<locals>.<lambda> at 0x71e1f3ae6020>, <function param_basis.get_basis_functions.<locals>.<lambda> at 0x71e1f3ae60c0>, <function param_basis.get_basis_functions.<locals>.<lambda> at 0x71e1f3ae6160>]\n"
     ]
    }
   ],
   "source": [
    "class param_basis:\n",
    "    def __init__(self, max_n):\n",
    "        self.max_n =int(max_n)\n",
    "        self.pi = np.pi\n",
    "    def get_basis_functions(self):\n",
    "        basis_functions = []\n",
    "        for n in range(1,self.max_n + 1):\n",
    "            basis_fn = lambda x, n=n: tf.sin(n*tf.constant(self.pi, dtype=tf.float32) * x) \n",
    "            basis_functions.append(basis_fn)\n",
    "        return basis_functions    \n",
    "    \n",
    "max_n = 10.0\n",
    "basis_generator = param_basis(max_n)\n",
    "basis_functions = basis_generator.get_basis_functions()\n",
    "print(basis_functions)"
   ]
  }
 ],
 "metadata": {
  "kernelspec": {
   "display_name": "Python 3",
   "language": "python",
   "name": "python3"
  },
  "language_info": {
   "codemirror_mode": {
    "name": "ipython",
    "version": 3
   },
   "file_extension": ".py",
   "mimetype": "text/x-python",
   "name": "python",
   "nbconvert_exporter": "python",
   "pygments_lexer": "ipython3",
   "version": "3.12.1"
  }
 },
 "nbformat": 4,
 "nbformat_minor": 2
}
